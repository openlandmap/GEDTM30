{
 "cells": [
  {
   "cell_type": "markdown",
   "id": "06af7998-4098-46ef-923e-c7ae15a88dbb",
   "metadata": {},
   "source": [
    "# Local Enhanced Global Ensemble Modeling (LEGEN-DTM): local modeling notebook\n",
    "\n",
    "The notebook describes a global-to-local model example in the research of GEDTM30 (https://github.com/openlandmap/GEDTM30). A 1 degree x 1 degree tile is predicted through\n",
    "\n",
    "1. Global model:\n",
    "\n",
    "GEDTM30 global model is trained by globally stratified ICESat-2 and GEDI terrain height samples.\n",
    "\n",
    "2. Local model:\n",
    "\n",
    "Additional samples (samples.csv) from a 5 degree x 5 degree ICESat-2 and GEDI samples that covers this 1 degree tile are used to enhance the global model to a local model with 100 additional trees upon the 100 trees from the global model.\n",
    "\n",
    "We will go through a detail in reproducing the locally enhanced modeling process. That includes:\n",
    "\n",
    "(1) Rewrite \"RandomForestRegressor\" from sklearn to return individual trees output so as to derive terrain prediction and uncertainty (stanrd deviation)\n",
    "\n",
    "(2) Load covariates from online Zenodo bucket via HTTP range request\n",
    "\n",
    "(3) Predict a global model \n",
    "\n",
    "(4) Build additional trees to the global model in order to obtain a local-enhanced model (global-to-local modeling)\n",
    "\n",
    "(5) Predict a local model\n",
    "\n",
    "This notebook is the reproducible script powered by Zenodo, from the repository (https://zenodo.org/records/14914836) which stores the covariates in COG format and the global model (file_name). The script is designed to run in local independently. \n",
    "\n"
   ]
  },
  {
   "cell_type": "code",
   "execution_count": null,
   "id": "6ad60db2-454e-4e67-846a-c605416c8ea0",
   "metadata": {
    "tags": []
   },
   "outputs": [],
   "source": [
    "# import libraries\n",
    "from sklearn.ensemble import RandomForestRegressor\n",
    "from sklearn.utils.validation import check_is_fitted\n",
    "import rasterio\n",
    "import numpy as np\n",
    "import joblib\n",
    "import pandas as pd\n",
    "import bottleneck as bn\n",
    "import threading\n",
    "from joblib import Parallel, delayed\n",
    "import matplotlib.pyplot as plt\n",
    "from tqdm import tqdm"
   ]
  },
  {
   "cell_type": "markdown",
   "id": "5f7699b6-286b-49c0-ad3b-33adc99a55aa",
   "metadata": {},
   "source": [
    "## Part 1: Rewrite \"RandomForestRegressor\" from sklearn to return individual trees output so as to derive terrain prediction and uncertainty (stanrd deviation)"
   ]
  },
  {
   "cell_type": "code",
   "execution_count": null,
   "id": "bc495c24-f47b-4de8-9351-ab74f49cf76b",
   "metadata": {
    "tags": []
   },
   "outputs": [],
   "source": [
    "# define functions \n",
    "def _single_prediction(predict, X, out, i, lock):\n",
    "    prediction = predict(X, check_input=False)\n",
    "    with lock:\n",
    "        out[i, :] = prediction\n",
    "\n",
    "def cast_tree_rf(model):\n",
    "    model.__class__ = TreesRandomForestRegressor\n",
    "    return model\n",
    "\n",
    "class TreesRandomForestRegressor(RandomForestRegressor):\n",
    "    def predict(self, X):\n",
    "        \"\"\"\n",
    "        Predict regression target for X.\n",
    "\n",
    "        The predicted regression target of an input sample is computed according\n",
    "        to a list of functions that receives the predicted regression targets of each \n",
    "        single tree in the forest.\n",
    "\n",
    "        Parameters\n",
    "        ----------\n",
    "        X : {array-like, sparse matrix} of shape (n_samples, n_features)\n",
    "            The input samples. Internally, its dtype will be converted to\n",
    "            ``dtype=np.float32``. If a sparse matrix is provided, it will be\n",
    "            converted into a sparse ``csr_matrix``.\n",
    "\n",
    "        Returns\n",
    "        -------\n",
    "        s : an ndarray of shape (n_estimators, n_samples)\n",
    "            The predicted values for each single tree.\n",
    "        \"\"\"\n",
    "        check_is_fitted(self)\n",
    "        # Check data\n",
    "        X = self._validate_X_predict(X)\n",
    "\n",
    "        # store the output of every estimator\n",
    "        assert(self.n_outputs_ == 1)\n",
    "        pred_t = np.empty((len(self.estimators_), X.shape[0]), dtype=np.float32)\n",
    "        # Assign chunk of trees to jobs\n",
    "        n_jobs = min(self.n_estimators, self.n_jobs)\n",
    "        # Parallel loop prediction\n",
    "        lock = threading.Lock()\n",
    "        Parallel(n_jobs=n_jobs, verbose=self.verbose, require=\"sharedmem\")(\n",
    "            delayed(_single_prediction)(self.estimators_[i].predict, X, pred_t, i, lock)\n",
    "            for i in range(len(self.estimators_))\n",
    "        )\n",
    "        return pred_t"
   ]
  },
  {
   "cell_type": "markdown",
   "id": "16723101-bf09-4a03-bd7c-908b40db7508",
   "metadata": {},
   "source": [
    "## Part 2: Load covariates from online Zenodo bucket via HTTP range request"
   ]
  },
  {
   "cell_type": "code",
   "execution_count": null,
   "id": "3ff1307a-3631-4f38-a089-0bd27b8e400d",
   "metadata": {
    "tags": []
   },
   "outputs": [],
   "source": [
    "files=['https://zenodo.org/records/14914836/files/slope_etopo2022.tiff?download=1',\n",
    "'https://zenodo.org/records/14914836/files/canopy.height_glad.tiff?download=1',\n",
    "'https://zenodo.org/records/14914836/files/canopy.height_eth.tiff?download=1',\n",
    "'https://zenodo.org/records/14914836/files/dsm_aw3d30.tiff?download=1',\n",
    "'https://zenodo.org/records/14914836/files/dsm_glo30.tiff?download=1',\n",
    "'https://zenodo.org/records/14914836/files/edge.canopy.height_glad.tiff?download=1',\n",
    "'https://zenodo.org/records/14914836/files/edge.canopy.height_eth.tiff?download=1',\n",
    "'https://zenodo.org/records/14914836/files/ndvi.p025_2006.2010tiff?download=1',\n",
    "'https://zenodo.org/records/14914836/files/ndvi.p025_2011.2015.tiff?download=1',\n",
    "'https://zenodo.org/records/14914836/files/ndvi.p50_2006.2010.tiff?download=1',\n",
    "'https://zenodo.org/records/14914836/files/ndvi.p50_2011.2015.tiff?download=1',\n",
    "'https://zenodo.org/records/14914836/files/ndvi.p975_2006.2010.tiff?download=1',\n",
    "'https://zenodo.org/records/14914836/files/ndvi.p975_2011.2015.tiff?download=1',\n",
    "'https://zenodo.org/records/14914836/files/ndwi.p025_2006.2010.tiff?download=1',\n",
    "'https://zenodo.org/records/14914836/files/ndwi.p025_2011.2015.tiff?download=1',\n",
    "'https://zenodo.org/records/14914836/files/ndwi.p50_2006.2010.tiff?download=1',\n",
    "'https://zenodo.org/records/14914836/files/ndwi.p50_2011.2015.tiff?download=1',\n",
    "'https://zenodo.org/records/14914836/files/ndwi.p975_2006.2010.tiff?download=1',\n",
    "'https://zenodo.org/records/14914836/files/ndwi.p975_2011.2015.tiff?download=1',\n",
    "'https://zenodo.org/records/14914836/files/nir.p025_2006.2010.tiff?download=1',\n",
    "'https://zenodo.org/records/14914836/files/nir.p025_2011.2015.tiff?download=1',\n",
    "'https://zenodo.org/records/14914836/files/nir.p50_2006.2010.tiff?download=1',\n",
    "'https://zenodo.org/records/14914836/files/nir.p50_2011.2015.tiff?download=1',\n",
    "'https://zenodo.org/records/14914836/files/nir.p975_2006_2010.tiff?download=1',\n",
    "'https://zenodo.org/records/14914836/files/nir.p975_2011.2015.tiff?download=1',\n",
    "'https://zenodo.org/records/14914836/files/tree.cover_glad.tiff?download=1',\n",
    "'https://zenodo.org/records/14914836/files/building.height_3dglobfp.tiff?download=1',\n",
    "'https://zenodo.org/records/14914836/files/building.height_ghsbuilth.tiff?download=1',\n",
    "'https://zenodo.org/records/14914836/files/building.extent_wsf2019.tiff?download=1',\n",
    "'https://zenodo.org/records/14914836/files/lcluc.change_glad.tiff?download=1']"
   ]
  },
  {
   "cell_type": "code",
   "execution_count": null,
   "id": "b31cfaa0-8438-4ea9-8dab-72452f74abe7",
   "metadata": {
    "tags": []
   },
   "outputs": [],
   "source": [
    "data_list=[]\n",
    "for file in tqdm(files):\n",
    "    data=rasterio.open(file).read(1)\n",
    "    data_list.append(data)"
   ]
  },
  {
   "cell_type": "code",
   "execution_count": null,
   "id": "18addb02-bd03-464f-8bfd-3c2c984b0501",
   "metadata": {
    "tags": []
   },
   "outputs": [],
   "source": [
    "input_data=np.dstack(data_list)"
   ]
  },
  {
   "cell_type": "code",
   "execution_count": null,
   "id": "f532791e-454b-42db-9ec4-e5438dc7dec3",
   "metadata": {
    "tags": []
   },
   "outputs": [],
   "source": [
    "x_size,y_size,layers=input_data.shape"
   ]
  },
  {
   "cell_type": "code",
   "execution_count": null,
   "id": "c59aa1ce-5c6a-4466-a980-535b21f90d74",
   "metadata": {
    "tags": []
   },
   "outputs": [],
   "source": [
    "input_data.transpose(2,0,1).shape"
   ]
  },
  {
   "cell_type": "code",
   "execution_count": null,
   "id": "fb936d6f-eaa4-4505-9480-a7ed9d67dbf6",
   "metadata": {
    "tags": []
   },
   "outputs": [],
   "source": [
    "data = input_data.transpose(2,0,1).reshape(layers,-1)"
   ]
  },
  {
   "cell_type": "code",
   "execution_count": null,
   "id": "fa1536eb-5c29-414f-9c5d-6ebd2e380125",
   "metadata": {
    "tags": []
   },
   "outputs": [],
   "source": [
    "# extract the permanent ice from lc_glad.glcluc.change\n",
    "lulc=data[-1,:]\n",
    "permanent_ice=lulc==241\n",
    "data=data[:-1,:]\n",
    "\n",
    "# assign aw3d30 value on glo30 in azerbaijan_mask\n",
    "azerbaijan_mask=np.isnan(data[4,:])\n",
    "data[4,azerbaijan_mask]=data[3,azerbaijan_mask]\n",
    "build_mask=np.isnan(data[-2,:])\n",
    "data[-2,build_mask]=data[-3,build_mask]\n",
    "\n",
    "# give canopy to 0 if it is on permanent ice pixel\n",
    "data[1,permanent_ice]=0\n",
    "data[2,permanent_ice]=0\n",
    "\n",
    "# clean up huge discrepancy from DSMs\n",
    "d=10 # threshold for terrain difference\n",
    "alos_sub_mask=abs(data[3,:]-data[4,:])>d\n",
    "data[3,alos_sub_mask]=data[4,alos_sub_mask]\n",
    "\n",
    "# set nan data to 0 (no builing, no canopy, etc...)\n",
    "data[np.isnan(data)] = 0\n",
    "data=data.transpose(1,0)"
   ]
  },
  {
   "cell_type": "markdown",
   "id": "669e3986-6d71-4027-b7a1-af2f0ec19328",
   "metadata": {},
   "source": [
    "## Part 3: Predict a global model"
   ]
  },
  {
   "cell_type": "code",
   "execution_count": null,
   "id": "ce606ba6-3623-42e3-a9b4-f36db832feaf",
   "metadata": {
    "tags": []
   },
   "outputs": [],
   "source": [
    "# download the global model\n",
    "!wget https://zenodo.org/records/14914777/files/global.model_gedtm30.lz4?download=1 -O global.model_gedtm30.lz4"
   ]
  },
  {
   "cell_type": "code",
   "execution_count": null,
   "id": "1a9c4cfd-333e-4475-b3ef-bb32ef807886",
   "metadata": {
    "tags": []
   },
   "outputs": [],
   "source": [
    "# load the model\n",
    "m = joblib.load('global.model_gedtm30.lz4')['model_rf']\n",
    "# change the class to return individual trees\n",
    "m.__class__ = TreesRandomForestRegressor\n",
    "m"
   ]
  },
  {
   "cell_type": "code",
   "execution_count": null,
   "id": "5a3c5bc2-785b-45b2-95d6-2b18ab96821e",
   "metadata": {
    "tags": []
   },
   "outputs": [],
   "source": [
    "# predict the terrain height and obtain standard devation through the global model\n",
    "y_rf = m.predict(data)  \n",
    "print(y_rf.shape) # (tree, pixel)\n",
    "gpredictions = bn.nanmean(y_rf, axis=0)*10 # scaling to decimeter\n",
    "gstd = bn.nanstd(y_rf, axis=0)*100 # scaling to millimeter"
   ]
  },
  {
   "cell_type": "code",
   "execution_count": null,
   "id": "fd702519-d11f-433e-8a95-12f46a9c6b50",
   "metadata": {
    "tags": []
   },
   "outputs": [],
   "source": [
    "# visualize the result\n",
    "plt.imshow(gpredictions.reshape(1,x_size,y_size)[0,:,:])"
   ]
  },
  {
   "cell_type": "code",
   "execution_count": null,
   "id": "87558fda-ef53-4149-ae2a-35adb215bd8a",
   "metadata": {
    "tags": []
   },
   "outputs": [],
   "source": [
    "# save the result\n",
    "\n",
    "template = rasterio.open(files[5])\n",
    "kwargs = template.meta\n",
    "kwargs['compress'] = 'deflate'\n",
    "\n",
    "kwargs['dtype']= rasterio.int32\n",
    "kwargs['nodata']=2147483647\n",
    "with rasterio.open('gedtm_pred.tif', 'w', **kwargs) as dst:\n",
    "    dst.write(gpredictions.reshape(1,x_size,y_size)[0,:,:],1)\n",
    "    \n",
    "kwargs['dtype']= rasterio.int16\n",
    "kwargs['nodata']=32767\n",
    "with rasterio.open('gedtm_pred_std.tif', 'w', **kwargs) as dst:\n",
    "    dst.write(gstd.reshape(1,x_size,y_size)[0,:,:],1)"
   ]
  },
  {
   "cell_type": "markdown",
   "id": "411b61b8-cb7a-4d96-b56b-dadb598fb790",
   "metadata": {
    "tags": []
   },
   "source": [
    "## Part 4: Build additional trees to the global model in order to obtain a local-enhanced model (global-to-local modeling)\n"
   ]
  },
  {
   "cell_type": "code",
   "execution_count": null,
   "id": "97866497-a4be-492d-8de4-0eee2c59b770",
   "metadata": {
    "tags": []
   },
   "outputs": [],
   "source": [
    "# download the additional local samples\n",
    "!wget https://zenodo.org/records/14914777/files/local_samples.csv?download=1 -O local_samples.csv"
   ]
  },
  {
   "cell_type": "code",
   "execution_count": null,
   "id": "758c1114-81d1-44b3-9b0d-1f827b88aacd",
   "metadata": {
    "tags": []
   },
   "outputs": [],
   "source": [
    "# load the local samples\n",
    "samples = pd.read_csv('local_samples.csv',index_col=0)"
   ]
  },
  {
   "cell_type": "code",
   "execution_count": null,
   "id": "cd2b4d45-b267-46f6-846c-4a923c15d00c",
   "metadata": {
    "tags": []
   },
   "outputs": [],
   "source": [
    "# compare with global model feature importance\n",
    "feature_importances = pd.Series(m.feature_importances_, index=samples.columns[:-1])\n",
    "print(feature_importances.sort_values(ascending=False))"
   ]
  },
  {
   "cell_type": "code",
   "execution_count": null,
   "id": "16ed09ba-fdfd-4797-8bfc-23035f3ce772",
   "metadata": {
    "tags": []
   },
   "outputs": [],
   "source": [
    "# add 100 estimators (total 200) for local fine tuning\n",
    "m.set_params(n_estimators=200, warm_start=True)\n",
    "m.fit(samples[samples.columns[:-1]], samples['dtm_y'])"
   ]
  },
  {
   "cell_type": "code",
   "execution_count": null,
   "id": "972fa25d-9dcb-4439-bb03-9529cda948c0",
   "metadata": {
    "tags": []
   },
   "outputs": [],
   "source": [
    "# local enhanced global model feature importance\n",
    "feature_importances = pd.Series(m.feature_importances_, index=samples.columns[:-1])\n",
    "print(feature_importances.sort_values(ascending=False))"
   ]
  },
  {
   "cell_type": "code",
   "execution_count": null,
   "id": "255d6a0b-0b59-4b4e-b6e7-394634e1bc13",
   "metadata": {
    "tags": []
   },
   "outputs": [],
   "source": [
    "# predict the terrain height and obtain standard devation through the locally enhanced model\n",
    "y_rf = m.predict(data) \n",
    "print(y_rf.shape) # (tree, pixel)\n",
    "lpredictions = bn.nanmean(y_rf, axis=0)*10 # scaling to decimeter\n",
    "lstd = bn.nanstd(y_rf, axis=0)*100 # scaling to millimeter"
   ]
  },
  {
   "cell_type": "code",
   "execution_count": null,
   "id": "89f4552e-f7c6-4c60-aabd-1a2b5357c210",
   "metadata": {
    "tags": []
   },
   "outputs": [],
   "source": [
    "# visualize the result\n",
    "plt.imshow(lpredictions.reshape(1,x_size,y_size)[0,:,:])"
   ]
  },
  {
   "cell_type": "code",
   "execution_count": null,
   "id": "64364a32-efe1-4827-8096-375d60ba7706",
   "metadata": {
    "tags": []
   },
   "outputs": [],
   "source": [
    "# save the result\n",
    "kwargs['dtype']= rasterio.int32\n",
    "kwargs['nodata']=2147483647\n",
    "with rasterio.open('legdtm_pred.tif', 'w', **kwargs) as dst:\n",
    "    dst.write(lpredictions.reshape(1,x_size,y_size)[0,:,:],1)\n",
    "\n",
    "kwargs['dtype']= rasterio.int32\n",
    "kwargs['nodata']=32767\n",
    "with rasterio.open('legdtm_pred_std.tif', 'w', **kwargs) as dst:\n",
    "    dst.write(lstd.reshape(1,x_size,y_size)[0,:,:],1)"
   ]
  }
 ],
 "metadata": {
  "kernelspec": {
   "display_name": "Python 3 (ipykernel)",
   "language": "python",
   "name": "python3"
  },
  "language_info": {
   "codemirror_mode": {
    "name": "ipython",
    "version": 3
   },
   "file_extension": ".py",
   "mimetype": "text/x-python",
   "name": "python",
   "nbconvert_exporter": "python",
   "pygments_lexer": "ipython3",
   "version": "3.8.16"
  }
 },
 "nbformat": 4,
 "nbformat_minor": 5
}
